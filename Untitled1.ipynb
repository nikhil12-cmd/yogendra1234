{
 "cells": [
  {
   "cell_type": "code",
   "execution_count": 124,
   "metadata": {},
   "outputs": [
    {
     "ename": "SyntaxError",
     "evalue": "invalid syntax (<ipython-input-124-69de75fcfa4f>, line 1)",
     "output_type": "error",
     "traceback": [
      "\u001b[0;36m  File \u001b[0;32m\"<ipython-input-124-69de75fcfa4f>\"\u001b[0;36m, line \u001b[0;32m1\u001b[0m\n\u001b[0;31m    <html>\u001b[0m\n\u001b[0m    ^\u001b[0m\n\u001b[0;31mSyntaxError\u001b[0m\u001b[0;31m:\u001b[0m invalid syntax\n"
     ]
    }
   ],
   "source": [
    "\n",
    "\n",
    "<html> \n",
    "\n",
    "<head> \n",
    "\t<link class=\"jsbin\" href=\"http://ajax.googleapis.com/ajax/libs/jqueryui/1/themes/base/jquery-ui.css\"\n",
    "\t\trel=\"stylesheet\" type=\"text/css\" /> \n",
    "\t<script class=\"jsbin\" src=\"http://ajax.googleapis.com/ajax/libs/jquery/1/jquery.min.js\"></script> \n",
    "\t<script class=\"jsbin\" src=\"http://ajax.googleapis.com/ajax/libs/jqueryui/1.8.0/jquery-ui.min.js\"></script> \n",
    "\t<meta charset=utf-8 /> \n",
    "\n",
    "\t<script src=\"{{ url_for('static', filename='upload.js') }}\"></script> \n",
    "\n",
    "\t<style> \n",
    "\t\tarticle, \n",
    "\t\taside, \n",
    "\t\tfigure, \n",
    "\t\tfooter, \n",
    "\t\theader, \n",
    "\t\thgroup, \n",
    "\t\tmenu, \n",
    "\t\tnav, \n",
    "\t\tsection { \n",
    "\t\t\tdisplay: block; \n",
    "\t\t} \n",
    "\t</style> \n",
    "</head> \n",
    "\n",
    "<body> \n",
    "\t<form action=\"http://127.0.0.1:5000/uploader\" method=\"POST\" enctype=\"multipart/form-data\"> \n",
    "\t\t<input type='file' name='file' onchange=\"readURL(this);\" /> \n",
    "\t\t<img id=\"blah\" src=\"#\" alt=\"your image\" /> \n",
    "\t\t<button type=\"submit\">Submit & predict</button> \n",
    "\n",
    "\t</form> \n",
    "</body> \n",
    "\n",
    "</html> \n",
    "\n"
   ]
  },
  {
   "cell_type": "code",
   "execution_count": null,
   "metadata": {},
   "outputs": [],
   "source": []
  }
 ],
 "metadata": {
  "kernelspec": {
   "display_name": "Python 3",
   "language": "python",
   "name": "python3"
  },
  "language_info": {
   "codemirror_mode": {
    "name": "ipython",
    "version": 3
   },
   "file_extension": ".py",
   "mimetype": "text/x-python",
   "name": "python",
   "nbconvert_exporter": "python",
   "pygments_lexer": "ipython3",
   "version": "3.8.3"
  }
 },
 "nbformat": 4,
 "nbformat_minor": 4
}
